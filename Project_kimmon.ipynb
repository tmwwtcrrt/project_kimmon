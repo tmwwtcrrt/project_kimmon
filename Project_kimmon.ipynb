{
  "cells": [
    {
      "cell_type": "markdown",
      "metadata": {
        "id": "view-in-github",
        "colab_type": "text"
      },
      "source": [
        "<a href=\"https://colab.research.google.com/github/tmwwtcrrt/project_kimmon/blob/main/Project_kimmon.ipynb\" target=\"_parent\"><img src=\"https://colab.research.google.com/assets/colab-badge.svg\" alt=\"Open In Colab\"/></a>"
      ]
    },
    {
      "cell_type": "code",
      "source": [
        "from google.colab import drive\n",
        "drive.mount('/content/drive')"
      ],
      "metadata": {
        "id": "bLE9eNfNOzv2",
        "colab": {
          "base_uri": "https://localhost:8080/"
        },
        "outputId": "30d7a8b7-c2e4-491a-f5d2-d222399683c2"
      },
      "execution_count": 2,
      "outputs": [
        {
          "output_type": "stream",
          "name": "stdout",
          "text": [
            "Mounted at /content/drive\n"
          ]
        }
      ]
    },
    {
      "cell_type": "markdown",
      "metadata": {
        "id": "xRlSKMPdQCzH"
      },
      "source": [
        "Setup"
      ]
    },
    {
      "cell_type": "code",
      "execution_count": 3,
      "metadata": {
        "colab": {
          "base_uri": "https://localhost:8080/"
        },
        "id": "njrzVQZ7Xpeq",
        "outputId": "c1360e6c-e66b-4324-8172-fe095ddf2786"
      },
      "outputs": [
        {
          "output_type": "stream",
          "name": "stderr",
          "text": [
            "YOLOv5 🚀 v7.0-345-g8003649c Python-3.10.12 torch-2.3.1+cu121 CUDA:0 (Tesla T4, 15102MiB)\n"
          ]
        },
        {
          "output_type": "stream",
          "name": "stdout",
          "text": [
            "Setup complete ✅ (2 CPUs, 12.7 GB RAM, 30.2/78.2 GB disk)\n"
          ]
        }
      ],
      "source": [
        "!git clone https://github.com/ultralytics/yolov5  # clone\n",
        "%cd yolov5\n",
        "%pip install -qr requirements.txt  # install\n",
        "\n",
        "import torch\n",
        "import utils\n",
        "display = utils.notebook_init()  # checks"
      ]
    },
    {
      "cell_type": "markdown",
      "metadata": {
        "id": "ISxPSCDRQGf_"
      },
      "source": [
        "Test Detect"
      ]
    },
    {
      "cell_type": "code",
      "execution_count": 4,
      "metadata": {
        "id": "sasmX0DrYyQe",
        "colab": {
          "base_uri": "https://localhost:8080/"
        },
        "outputId": "c88bea23-ae18-4c64-b678-7ed9ba2196b0"
      },
      "outputs": [
        {
          "output_type": "stream",
          "name": "stdout",
          "text": [
            "\u001b[34m\u001b[1mdetect: \u001b[0mweights=['yolov5s.pt'], source=data/images, data=data/coco128.yaml, imgsz=[640, 640], conf_thres=0.25, iou_thres=0.45, max_det=1000, device=, view_img=False, save_txt=False, save_csv=False, save_conf=False, save_crop=False, nosave=False, classes=None, agnostic_nms=False, augment=False, visualize=False, update=False, project=runs/detect, name=exp, exist_ok=False, line_thickness=3, hide_labels=False, hide_conf=False, half=False, dnn=False, vid_stride=1\n",
            "YOLOv5 🚀 v7.0-345-g8003649c Python-3.10.12 torch-2.3.1+cu121 CUDA:0 (Tesla T4, 15102MiB)\n",
            "\n",
            "Downloading https://github.com/ultralytics/yolov5/releases/download/v7.0/yolov5s.pt to yolov5s.pt...\n",
            "100% 14.1M/14.1M [00:00<00:00, 178MB/s]\n",
            "\n",
            "Fusing layers... \n",
            "YOLOv5s summary: 213 layers, 7225885 parameters, 0 gradients, 16.4 GFLOPs\n",
            "WARNING ⚠️ NMS time limit 0.550s exceeded\n",
            "image 1/2 /content/yolov5/data/images/bus.jpg: 640x480 4 persons, 1 bus, 85.3ms\n",
            "image 2/2 /content/yolov5/data/images/zidane.jpg: 384x640 2 persons, 2 ties, 82.5ms\n",
            "Speed: 0.7ms pre-process, 83.9ms inference, 417.5ms NMS per image at shape (1, 3, 640, 640)\n",
            "Results saved to \u001b[1mruns/detect/exp\u001b[0m\n"
          ]
        }
      ],
      "source": [
        "!python detect.py --weights yolov5s.pt --img 640 --conf 0.25 --source data/images"
      ]
    },
    {
      "cell_type": "markdown",
      "metadata": {
        "id": "0ZvswpNDP-33"
      },
      "source": [
        "เทรน"
      ]
    },
    {
      "cell_type": "markdown",
      "metadata": {
        "id": "nFBMZ58MPU7p"
      },
      "source": [
        "แก้ไฟลล์ ใน data/kimmon.yaml\n",
        "\n",
        "\n",
        "train: D:\\project_kimmon\\train  # train images (relative to 'path') 118287 images\n",
        "val: D:\\project_kimmon\\train  # val images (relative to 'path') 5000 images\n",
        "\n",
        "# Classes\n",
        "names:\n",
        "  0: yaris_red\n"
      ]
    },
    {
      "cell_type": "markdown",
      "metadata": {
        "id": "uFoIsEVAPpiv"
      },
      "source": [
        "แก้ไข models/yolov5s.yaml\n",
        "\n",
        "size label"
      ]
    },
    {
      "cell_type": "code",
      "execution_count": 5,
      "metadata": {
        "colab": {
          "base_uri": "https://localhost:8080/"
        },
        "id": "dRPO2XEByXxR",
        "outputId": "1cde095c-f084-47a3-dbdd-3b4abb3de2be"
      },
      "outputs": [
        {
          "output_type": "stream",
          "name": "stdout",
          "text": [
            "2024-07-21 17:24:00.087963: E external/local_xla/xla/stream_executor/cuda/cuda_dnn.cc:9261] Unable to register cuDNN factory: Attempting to register factory for plugin cuDNN when one has already been registered\n",
            "2024-07-21 17:24:00.088017: E external/local_xla/xla/stream_executor/cuda/cuda_fft.cc:607] Unable to register cuFFT factory: Attempting to register factory for plugin cuFFT when one has already been registered\n",
            "2024-07-21 17:24:00.210183: E external/local_xla/xla/stream_executor/cuda/cuda_blas.cc:1515] Unable to register cuBLAS factory: Attempting to register factory for plugin cuBLAS when one has already been registered\n",
            "\u001b[34m\u001b[1mtrain: \u001b[0mweights=yolov5s.pt, cfg=, data=kimmon.yaml, hyp=data/hyps/hyp.scratch-low.yaml, epochs=20, batch_size=16, imgsz=640, rect=False, resume=False, nosave=False, noval=False, noautoanchor=False, noplots=False, evolve=None, evolve_population=data/hyps, resume_evolve=None, bucket=, cache=None, image_weights=False, device=, multi_scale=False, single_cls=False, optimizer=SGD, sync_bn=False, workers=8, project=runs/train, name=exp, exist_ok=False, quad=False, cos_lr=False, label_smoothing=0.0, patience=100, freeze=[0], save_period=-1, seed=0, local_rank=-1, entity=None, upload_dataset=False, bbox_interval=-1, artifact_alias=latest, ndjson_console=False, ndjson_file=False\n",
            "\u001b[34m\u001b[1mgithub: \u001b[0mup to date with https://github.com/ultralytics/yolov5 ✅\n",
            "YOLOv5 🚀 v7.0-345-g8003649c Python-3.10.12 torch-2.3.1+cu121 CUDA:0 (Tesla T4, 15102MiB)\n",
            "\n",
            "\u001b[34m\u001b[1mhyperparameters: \u001b[0mlr0=0.01, lrf=0.01, momentum=0.937, weight_decay=0.0005, warmup_epochs=3.0, warmup_momentum=0.8, warmup_bias_lr=0.1, box=0.05, cls=0.5, cls_pw=1.0, obj=1.0, obj_pw=1.0, iou_t=0.2, anchor_t=4.0, fl_gamma=0.0, hsv_h=0.015, hsv_s=0.7, hsv_v=0.4, degrees=0.0, translate=0.1, scale=0.5, shear=0.0, perspective=0.0, flipud=0.0, fliplr=0.5, mosaic=1.0, mixup=0.0, copy_paste=0.0\n",
            "\u001b[34m\u001b[1mComet: \u001b[0mrun 'pip install comet_ml' to automatically track and visualize YOLOv5 🚀 runs in Comet\n",
            "\u001b[34m\u001b[1mTensorBoard: \u001b[0mStart with 'tensorboard --logdir runs/train', view at http://localhost:6006/\n",
            "Overriding model.yaml nc=80 with nc=4\n",
            "\n",
            "                 from  n    params  module                                  arguments                     \n",
            "  0                -1  1      3520  models.common.Conv                      [3, 32, 6, 2, 2]              \n",
            "  1                -1  1     18560  models.common.Conv                      [32, 64, 3, 2]                \n",
            "  2                -1  1     18816  models.common.C3                        [64, 64, 1]                   \n",
            "  3                -1  1     73984  models.common.Conv                      [64, 128, 3, 2]               \n",
            "  4                -1  2    115712  models.common.C3                        [128, 128, 2]                 \n",
            "  5                -1  1    295424  models.common.Conv                      [128, 256, 3, 2]              \n",
            "  6                -1  3    625152  models.common.C3                        [256, 256, 3]                 \n",
            "  7                -1  1   1180672  models.common.Conv                      [256, 512, 3, 2]              \n",
            "  8                -1  1   1182720  models.common.C3                        [512, 512, 1]                 \n",
            "  9                -1  1    656896  models.common.SPPF                      [512, 512, 5]                 \n",
            " 10                -1  1    131584  models.common.Conv                      [512, 256, 1, 1]              \n",
            " 11                -1  1         0  torch.nn.modules.upsampling.Upsample    [None, 2, 'nearest']          \n",
            " 12           [-1, 6]  1         0  models.common.Concat                    [1]                           \n",
            " 13                -1  1    361984  models.common.C3                        [512, 256, 1, False]          \n",
            " 14                -1  1     33024  models.common.Conv                      [256, 128, 1, 1]              \n",
            " 15                -1  1         0  torch.nn.modules.upsampling.Upsample    [None, 2, 'nearest']          \n",
            " 16           [-1, 4]  1         0  models.common.Concat                    [1]                           \n",
            " 17                -1  1     90880  models.common.C3                        [256, 128, 1, False]          \n",
            " 18                -1  1    147712  models.common.Conv                      [128, 128, 3, 2]              \n",
            " 19          [-1, 14]  1         0  models.common.Concat                    [1]                           \n",
            " 20                -1  1    296448  models.common.C3                        [256, 256, 1, False]          \n",
            " 21                -1  1    590336  models.common.Conv                      [256, 256, 3, 2]              \n",
            " 22          [-1, 10]  1         0  models.common.Concat                    [1]                           \n",
            " 23                -1  1   1182720  models.common.C3                        [512, 512, 1, False]          \n",
            " 24      [17, 20, 23]  1     24273  models.yolo.Detect                      [4, [[10, 13, 16, 30, 33, 23], [30, 61, 62, 45, 59, 119], [116, 90, 156, 198, 373, 326]], [128, 256, 512]]\n",
            "Model summary: 214 layers, 7030417 parameters, 7030417 gradients, 16.0 GFLOPs\n",
            "\n",
            "Transferred 343/349 items from yolov5s.pt\n",
            "\u001b[34m\u001b[1mAMP: \u001b[0mchecks passed ✅\n",
            "\u001b[34m\u001b[1moptimizer:\u001b[0m SGD(lr=0.01) with parameter groups 57 weight(decay=0.0), 60 weight(decay=0.0005), 60 bias\n",
            "\u001b[34m\u001b[1malbumentations: \u001b[0mBlur(p=0.01, blur_limit=(3, 7)), MedianBlur(p=0.01, blur_limit=(3, 7)), ToGray(p=0.01), CLAHE(p=0.01, clip_limit=(1, 4.0), tile_grid_size=(8, 8))\n",
            "/usr/lib/python3.10/multiprocessing/popen_fork.py:66: RuntimeWarning: os.fork() was called. os.fork() is incompatible with multithreaded code, and JAX is multithreaded, so this will likely lead to a deadlock.\n",
            "  self.pid = os.fork()\n",
            "\u001b[34m\u001b[1mtrain: \u001b[0mScanning /content/drive/MyDrive/project_kimmon/train/labels... 1909 images, 0 backgrounds, 0 corrupt: 100% 1909/1909 [10:54<00:00,  2.91it/s]\n",
            "\u001b[34m\u001b[1mtrain: \u001b[0mNew cache created: /content/drive/MyDrive/project_kimmon/train/labels.cache\n",
            "\u001b[34m\u001b[1mval: \u001b[0mScanning /content/drive/MyDrive/project_kimmon/train/labels.cache... 1909 images, 0 backgrounds, 0 corrupt: 100% 1909/1909 [00:00<?, ?it/s]\n",
            "\n",
            "\u001b[34m\u001b[1mAutoAnchor: \u001b[0m4.31 anchors/target, 1.000 Best Possible Recall (BPR). Current anchors are a good fit to dataset ✅\n",
            "Plotting labels to runs/train/exp/labels.jpg... \n",
            "Image sizes 640 train, 640 val\n",
            "Using 2 dataloader workers\n",
            "Logging results to \u001b[1mruns/train/exp\u001b[0m\n",
            "Starting training for 20 epochs...\n",
            "\n",
            "      Epoch    GPU_mem   box_loss   obj_loss   cls_loss  Instances       Size\n",
            "       0/19      3.67G    0.07486     0.0378    0.04217         16        640: 100% 120/120 [01:36<00:00,  1.24it/s]\n",
            "                 Class     Images  Instances          P          R      mAP50   mAP50-95: 100% 60/60 [00:40<00:00,  1.50it/s]\n",
            "                   all       1909       3863      0.254      0.393      0.273      0.108\n",
            "\n",
            "      Epoch    GPU_mem   box_loss   obj_loss   cls_loss  Instances       Size\n",
            "       1/19      4.49G    0.04822    0.02652    0.02799         12        640: 100% 120/120 [01:29<00:00,  1.34it/s]\n",
            "                 Class     Images  Instances          P          R      mAP50   mAP50-95: 100% 60/60 [00:36<00:00,  1.64it/s]\n",
            "                   all       1909       3863      0.516      0.726      0.656      0.334\n",
            "\n",
            "      Epoch    GPU_mem   box_loss   obj_loss   cls_loss  Instances       Size\n",
            "       2/19      4.49G    0.04668    0.02124     0.0138         24        640: 100% 120/120 [01:31<00:00,  1.31it/s]\n",
            "                 Class     Images  Instances          P          R      mAP50   mAP50-95: 100% 60/60 [00:36<00:00,  1.62it/s]\n",
            "                   all       1909       3863      0.661      0.752      0.761      0.344\n",
            "\n",
            "      Epoch    GPU_mem   box_loss   obj_loss   cls_loss  Instances       Size\n",
            "       3/19      4.49G    0.04117     0.0191   0.008555         15        640: 100% 120/120 [01:26<00:00,  1.38it/s]\n",
            "                 Class     Images  Instances          P          R      mAP50   mAP50-95: 100% 60/60 [00:36<00:00,  1.63it/s]\n",
            "                   all       1909       3863       0.84      0.882      0.929      0.617\n",
            "\n",
            "      Epoch    GPU_mem   box_loss   obj_loss   cls_loss  Instances       Size\n",
            "       4/19      4.49G    0.03581    0.01726   0.007238         24        640: 100% 120/120 [01:32<00:00,  1.30it/s]\n",
            "                 Class     Images  Instances          P          R      mAP50   mAP50-95: 100% 60/60 [00:35<00:00,  1.69it/s]\n",
            "                   all       1909       3863      0.954       0.95      0.983      0.733\n",
            "\n",
            "      Epoch    GPU_mem   box_loss   obj_loss   cls_loss  Instances       Size\n",
            "       5/19      4.49G    0.03162    0.01668   0.005515         14        640: 100% 120/120 [01:28<00:00,  1.35it/s]\n",
            "                 Class     Images  Instances          P          R      mAP50   mAP50-95: 100% 60/60 [00:37<00:00,  1.58it/s]\n",
            "                   all       1909       3863      0.954      0.933       0.98      0.711\n",
            "\n",
            "      Epoch    GPU_mem   box_loss   obj_loss   cls_loss  Instances       Size\n",
            "       6/19      4.49G    0.03039    0.01624   0.005316         20        640: 100% 120/120 [01:28<00:00,  1.36it/s]\n",
            "                 Class     Images  Instances          P          R      mAP50   mAP50-95: 100% 60/60 [00:34<00:00,  1.74it/s]\n",
            "                   all       1909       3863      0.975      0.967      0.994      0.764\n",
            "\n",
            "      Epoch    GPU_mem   box_loss   obj_loss   cls_loss  Instances       Size\n",
            "       7/19      4.49G    0.02839    0.01555   0.004519         23        640: 100% 120/120 [01:31<00:00,  1.31it/s]\n",
            "                 Class     Images  Instances          P          R      mAP50   mAP50-95: 100% 60/60 [00:36<00:00,  1.63it/s]\n",
            "                   all       1909       3863      0.976      0.967      0.992      0.751\n",
            "\n",
            "      Epoch    GPU_mem   box_loss   obj_loss   cls_loss  Instances       Size\n",
            "       8/19      4.49G    0.02672    0.01501    0.00404         12        640: 100% 120/120 [01:27<00:00,  1.38it/s]\n",
            "                 Class     Images  Instances          P          R      mAP50   mAP50-95: 100% 60/60 [00:36<00:00,  1.63it/s]\n",
            "                   all       1909       3863      0.977      0.975      0.994      0.758\n",
            "\n",
            "      Epoch    GPU_mem   box_loss   obj_loss   cls_loss  Instances       Size\n",
            "       9/19      4.49G    0.02499     0.0143   0.003583         14        640: 100% 120/120 [01:32<00:00,  1.29it/s]\n",
            "                 Class     Images  Instances          P          R      mAP50   mAP50-95: 100% 60/60 [00:36<00:00,  1.66it/s]\n",
            "                   all       1909       3863      0.985      0.988      0.995      0.797\n",
            "\n",
            "      Epoch    GPU_mem   box_loss   obj_loss   cls_loss  Instances       Size\n",
            "      10/19      4.49G    0.02397    0.01419   0.002898         25        640: 100% 120/120 [01:26<00:00,  1.40it/s]\n",
            "                 Class     Images  Instances          P          R      mAP50   mAP50-95: 100% 60/60 [00:37<00:00,  1.60it/s]\n",
            "                   all       1909       3863      0.989      0.995      0.995      0.805\n",
            "\n",
            "      Epoch    GPU_mem   box_loss   obj_loss   cls_loss  Instances       Size\n",
            "      11/19      4.49G    0.02301    0.01353   0.002727         13        640: 100% 120/120 [01:29<00:00,  1.35it/s]\n",
            "                 Class     Images  Instances          P          R      mAP50   mAP50-95: 100% 60/60 [00:35<00:00,  1.71it/s]\n",
            "                   all       1909       3863      0.991      0.994      0.995      0.826\n",
            "\n",
            "      Epoch    GPU_mem   box_loss   obj_loss   cls_loss  Instances       Size\n",
            "      12/19      4.49G    0.02145    0.01328   0.002446         16        640: 100% 120/120 [01:27<00:00,  1.38it/s]\n",
            "                 Class     Images  Instances          P          R      mAP50   mAP50-95: 100% 60/60 [00:35<00:00,  1.67it/s]\n",
            "                   all       1909       3863      0.996      0.998      0.995      0.819\n",
            "\n",
            "      Epoch    GPU_mem   box_loss   obj_loss   cls_loss  Instances       Size\n",
            "      13/19      4.49G    0.02043    0.01304   0.002344         13        640: 100% 120/120 [01:24<00:00,  1.43it/s]\n",
            "                 Class     Images  Instances          P          R      mAP50   mAP50-95: 100% 60/60 [00:36<00:00,  1.67it/s]\n",
            "                   all       1909       3863      0.998      0.997      0.995      0.843\n",
            "\n",
            "      Epoch    GPU_mem   box_loss   obj_loss   cls_loss  Instances       Size\n",
            "      14/19      4.49G    0.01965    0.01275   0.002186         23        640: 100% 120/120 [01:30<00:00,  1.33it/s]\n",
            "                 Class     Images  Instances          P          R      mAP50   mAP50-95: 100% 60/60 [00:36<00:00,  1.66it/s]\n",
            "                   all       1909       3863      0.995      0.998      0.995      0.841\n",
            "\n",
            "      Epoch    GPU_mem   box_loss   obj_loss   cls_loss  Instances       Size\n",
            "      15/19      4.49G    0.01875    0.01277   0.001654         15        640: 100% 120/120 [01:27<00:00,  1.38it/s]\n",
            "                 Class     Images  Instances          P          R      mAP50   mAP50-95: 100% 60/60 [00:37<00:00,  1.60it/s]\n",
            "                   all       1909       3863      0.994      0.995      0.995      0.848\n",
            "\n",
            "      Epoch    GPU_mem   box_loss   obj_loss   cls_loss  Instances       Size\n",
            "      16/19      4.49G    0.01781     0.0119   0.001506         17        640: 100% 120/120 [01:30<00:00,  1.33it/s]\n",
            "                 Class     Images  Instances          P          R      mAP50   mAP50-95: 100% 60/60 [00:35<00:00,  1.67it/s]\n",
            "                   all       1909       3863          1      0.998      0.995      0.865\n",
            "\n",
            "      Epoch    GPU_mem   box_loss   obj_loss   cls_loss  Instances       Size\n",
            "      17/19      4.49G    0.01686    0.01156   0.001372         28        640: 100% 120/120 [01:26<00:00,  1.39it/s]\n",
            "                 Class     Images  Instances          P          R      mAP50   mAP50-95: 100% 60/60 [00:37<00:00,  1.62it/s]\n",
            "                   all       1909       3863      0.999      0.999      0.995      0.862\n",
            "\n",
            "      Epoch    GPU_mem   box_loss   obj_loss   cls_loss  Instances       Size\n",
            "      18/19      4.49G    0.01621    0.01171   0.001399         29        640: 100% 120/120 [01:26<00:00,  1.38it/s]\n",
            "                 Class     Images  Instances          P          R      mAP50   mAP50-95: 100% 60/60 [00:35<00:00,  1.69it/s]\n",
            "                   all       1909       3863      0.998      0.998      0.995      0.865\n",
            "\n",
            "      Epoch    GPU_mem   box_loss   obj_loss   cls_loss  Instances       Size\n",
            "      19/19      4.49G    0.01579    0.01106   0.001216         20        640: 100% 120/120 [01:30<00:00,  1.32it/s]\n",
            "                 Class     Images  Instances          P          R      mAP50   mAP50-95: 100% 60/60 [00:37<00:00,  1.61it/s]\n",
            "                   all       1909       3863      0.999          1      0.995       0.88\n",
            "\n",
            "20 epochs completed in 0.704 hours.\n",
            "Optimizer stripped from runs/train/exp/weights/last.pt, 14.5MB\n",
            "Optimizer stripped from runs/train/exp/weights/best.pt, 14.5MB\n",
            "\n",
            "Validating runs/train/exp/weights/best.pt...\n",
            "Fusing layers... \n",
            "Model summary: 157 layers, 7020913 parameters, 0 gradients, 15.8 GFLOPs\n",
            "                 Class     Images  Instances          P          R      mAP50   mAP50-95: 100% 60/60 [00:41<00:00,  1.43it/s]\n",
            "                   all       1909       3863      0.999          1      0.995      0.881\n",
            "                cardv1       1909        860          1          1      0.995      0.896\n",
            "                cardv2       1909        992      0.999      0.999      0.995      0.864\n",
            "                cardv3       1909        874          1          1      0.995      0.879\n",
            "                cardv4       1909       1137      0.999          1      0.995      0.883\n",
            "Results saved to \u001b[1mruns/train/exp\u001b[0m\n"
          ]
        }
      ],
      "source": [
        "!python train.py --img 640 --epochs 20 --data kimmon.yaml --weights yolov5s.pt"
      ]
    },
    {
      "cell_type": "markdown",
      "metadata": {
        "id": "Qs4JM-M8P6Kv"
      },
      "source": [
        "ทดสอบการเทรน"
      ]
    },
    {
      "cell_type": "code",
      "execution_count": 6,
      "metadata": {
        "id": "VWsVBunB-odF",
        "colab": {
          "base_uri": "https://localhost:8080/"
        },
        "outputId": "ec2e22eb-1b39-4e6f-9d06-73525398abd8"
      },
      "outputs": [
        {
          "output_type": "stream",
          "name": "stdout",
          "text": [
            "\u001b[34m\u001b[1mdetect: \u001b[0mweights=['/content/yolov5/runs/train/exp/weights/best.pt'], source=/content/drive/MyDrive/project_kimmon/val, data=data/coco128.yaml, imgsz=[640, 640], conf_thres=0.25, iou_thres=0.45, max_det=1000, device=, view_img=False, save_txt=False, save_csv=False, save_conf=False, save_crop=False, nosave=False, classes=None, agnostic_nms=False, augment=False, visualize=False, update=False, project=runs/detect, name=exp, exist_ok=False, line_thickness=3, hide_labels=False, hide_conf=False, half=False, dnn=False, vid_stride=1\n",
            "YOLOv5 🚀 v7.0-345-g8003649c Python-3.10.12 torch-2.3.1+cu121 CUDA:0 (Tesla T4, 15102MiB)\n",
            "\n",
            "Fusing layers... \n",
            "Model summary: 157 layers, 7020913 parameters, 0 gradients, 15.8 GFLOPs\n",
            "WARNING ⚠️ NMS time limit 0.550s exceeded\n",
            "image 1/33 /content/drive/MyDrive/project_kimmon/val/1.jpg: 640x480 8 cardv4s, 80.0ms\n",
            "image 2/33 /content/drive/MyDrive/project_kimmon/val/10.jpg: 640x512 1 cardv2, 62.0ms\n",
            "image 3/33 /content/drive/MyDrive/project_kimmon/val/11.jpg: 640x576 1 cardv4, 49.6ms\n",
            "image 4/33 /content/drive/MyDrive/project_kimmon/val/12.jpg: 608x640 1 cardv1, 49.0ms\n",
            "image 5/33 /content/drive/MyDrive/project_kimmon/val/13.jpg: 640x608 2 cardv1s, 49.1ms\n",
            "image 6/33 /content/drive/MyDrive/project_kimmon/val/14.jpg: 512x640 1 cardv2, 50.4ms\n",
            "image 7/33 /content/drive/MyDrive/project_kimmon/val/15.jpg: 640x480 1 cardv3, 8.7ms\n",
            "image 8/33 /content/drive/MyDrive/project_kimmon/val/16.jpg: 640x480 1 cardv3, 8.6ms\n",
            "image 9/33 /content/drive/MyDrive/project_kimmon/val/17.jpg: 640x480 2 cardv3s, 8.6ms\n",
            "image 10/33 /content/drive/MyDrive/project_kimmon/val/18.jpg: 640x480 1 cardv3, 8.6ms\n",
            "image 11/33 /content/drive/MyDrive/project_kimmon/val/19.jpg: 640x480 1 cardv3, 8.6ms\n",
            "image 12/33 /content/drive/MyDrive/project_kimmon/val/2.png: 512x640 1 cardv4, 9.2ms\n",
            "image 13/33 /content/drive/MyDrive/project_kimmon/val/20.jpg: 640x480 1 cardv3, 8.7ms\n",
            "image 14/33 /content/drive/MyDrive/project_kimmon/val/21.jpg: 640x480 1 cardv1, 8.6ms\n",
            "image 15/33 /content/drive/MyDrive/project_kimmon/val/22.jpg: 544x640 1 cardv1, 79.4ms\n",
            "image 16/33 /content/drive/MyDrive/project_kimmon/val/23.jpg: 512x640 1 cardv1, 14.4ms\n",
            "image 17/33 /content/drive/MyDrive/project_kimmon/val/24.jpg: 544x640 1 cardv1, 11.2ms\n",
            "image 18/33 /content/drive/MyDrive/project_kimmon/val/25.jpg: 640x480 2 cardv4s, 8.7ms\n",
            "image 19/33 /content/drive/MyDrive/project_kimmon/val/26.jpg: 640x384 1 cardv3, 48.7ms\n",
            "image 20/33 /content/drive/MyDrive/project_kimmon/val/27.jpg: 640x384 1 cardv1, 7.6ms\n",
            "image 21/33 /content/drive/MyDrive/project_kimmon/val/28.jpg: 640x480 1 cardv4, 8.7ms\n",
            "image 22/33 /content/drive/MyDrive/project_kimmon/val/29.jpg: 640x480 1 cardv2, 8.7ms\n",
            "image 23/33 /content/drive/MyDrive/project_kimmon/val/3.jpg: 608x640 6 cardv3s, 11.7ms\n",
            "image 24/33 /content/drive/MyDrive/project_kimmon/val/30.jpg: 640x640 1 cardv1, 11.7ms\n",
            "image 25/33 /content/drive/MyDrive/project_kimmon/val/31.jpg: 640x416 1 cardv1, 49.9ms\n",
            "image 26/33 /content/drive/MyDrive/project_kimmon/val/32.jpg: 640x512 1 cardv2, 8.7ms\n",
            "image 27/33 /content/drive/MyDrive/project_kimmon/val/33.jpg: 640x512 1 cardv3, 8.7ms\n",
            "image 28/33 /content/drive/MyDrive/project_kimmon/val/4.jpg: 480x640 6 cardv2s, 53.1ms\n",
            "image 29/33 /content/drive/MyDrive/project_kimmon/val/5.jpg: 640x480 2 cardv2s, 8.7ms\n",
            "image 30/33 /content/drive/MyDrive/project_kimmon/val/6.jpg: 480x640 6 cardv1s, 1 cardv2, 1 cardv3, 9.0ms\n",
            "image 31/33 /content/drive/MyDrive/project_kimmon/val/7.jpg: 640x576 1 cardv1, 11.6ms\n",
            "image 32/33 /content/drive/MyDrive/project_kimmon/val/8.jpg: 640x480 1 cardv4, 11.9ms\n",
            "image 33/33 /content/drive/MyDrive/project_kimmon/val/9.jpg: 640x288 1 cardv2, 81.5ms\n",
            "Speed: 0.6ms pre-process, 26.2ms inference, 31.1ms NMS per image at shape (1, 3, 640, 640)\n",
            "Results saved to \u001b[1mruns/detect/exp2\u001b[0m\n"
          ]
        }
      ],
      "source": [
        "!python detect.py --weights /content/yolov5/runs/train/exp/weights/best.pt --img 640 --conf 0.25 --source /content/drive/MyDrive/project_kimmon/val"
      ]
    },
    {
      "cell_type": "code",
      "execution_count": null,
      "metadata": {
        "id": "ngslz7rmPW-V"
      },
      "outputs": [],
      "source": []
    }
  ],
  "metadata": {
    "accelerator": "GPU",
    "colab": {
      "provenance": [],
      "gpuClass": "premium",
      "gpuType": "T4",
      "include_colab_link": true
    },
    "kernelspec": {
      "display_name": "Python 3",
      "name": "python3"
    },
    "language_info": {
      "name": "python"
    }
  },
  "nbformat": 4,
  "nbformat_minor": 0
}